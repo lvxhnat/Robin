{
 "cells": [
  {
   "cell_type": "code",
   "execution_count": 19,
   "id": "31cd4f90-5687-4645-b2a9-fb60c2e316ec",
   "metadata": {},
   "outputs": [],
   "source": [
    "A = [[1, 1, 1], [0, 1, 2], [0, 0, 3]]"
   ]
  },
  {
   "cell_type": "code",
   "execution_count": 20,
   "id": "64700b51-89ec-47c2-841f-b7f46f8725b9",
   "metadata": {},
   "outputs": [],
   "source": [
    "b = [[3], [3], [3]]"
   ]
  },
  {
   "cell_type": "code",
   "execution_count": 3,
   "id": "0c4d50e2-e7ef-4f60-bc97-1fcc8c8d0c30",
   "metadata": {},
   "outputs": [],
   "source": [
    "B_inv = np.linalg.inv([[1, 1, 1], [0, 1, 2], [0, 0, 3]])"
   ]
  },
  {
   "cell_type": "code",
   "execution_count": 6,
   "id": "0cfbbe61-547e-4e6c-9afb-229ba2352048",
   "metadata": {},
   "outputs": [
    {
     "data": {
      "text/plain": [
       "array([[ 1.        , -1.        ,  0.33333333],\n",
       "       [ 0.        ,  1.        , -0.66666667],\n",
       "       [ 0.        ,  0.        ,  0.33333333]])"
      ]
     },
     "execution_count": 6,
     "metadata": {},
     "output_type": "execute_result"
    }
   ],
   "source": [
    "B_inv"
   ]
  },
  {
   "cell_type": "code",
   "execution_count": null,
   "id": "3f74811e-a497-41a0-899e-2a3dee3d405d",
   "metadata": {},
   "outputs": [],
   "source": [
    "[[]]"
   ]
  },
  {
   "cell_type": "code",
   "execution_count": 23,
   "id": "64b2fb18-b72b-4ed9-9beb-1d888ed589e9",
   "metadata": {},
   "outputs": [
    {
     "data": {
      "text/plain": [
       "array([[7],\n",
       "       [5],\n",
       "       [3]])"
      ]
     },
     "execution_count": 23,
     "metadata": {},
     "output_type": "execute_result"
    }
   ],
   "source": [
    "np.dot([[1, 0, 1], [0, 1, -3], [0, 0, 1]], [[4],[14],[3]])"
   ]
  },
  {
   "cell_type": "code",
   "execution_count": 5,
   "id": "f1a750a8-e142-46d8-a1bd-4d6d2463b32a",
   "metadata": {},
   "outputs": [
    {
     "data": {
      "text/plain": [
       "array([[1.],\n",
       "       [1.],\n",
       "       [1.]])"
      ]
     },
     "execution_count": 5,
     "metadata": {},
     "output_type": "execute_result"
    }
   ],
   "source": [
    "np.dot(B_inv, [[3], [3], [3]])"
   ]
  },
  {
   "cell_type": "code",
   "execution_count": null,
   "id": "451aaa1c-2931-4d18-ba50-d2aad09a48b9",
   "metadata": {},
   "outputs": [],
   "source": []
  }
 ],
 "metadata": {
  "kernelspec": {
   "display_name": "Python 3 (ipykernel)",
   "language": "python",
   "name": "python3"
  },
  "language_info": {
   "codemirror_mode": {
    "name": "ipython",
    "version": 3
   },
   "file_extension": ".py",
   "mimetype": "text/x-python",
   "name": "python",
   "nbconvert_exporter": "python",
   "pygments_lexer": "ipython3",
   "version": "3.8.5"
  }
 },
 "nbformat": 4,
 "nbformat_minor": 5
}
