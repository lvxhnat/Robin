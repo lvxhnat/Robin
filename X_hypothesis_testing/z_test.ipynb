{
 "cells": [
  {
   "cell_type": "markdown",
   "id": "9cb0e1e7-7dca-4355-b28c-2743779f923b",
   "metadata": {},
   "source": [
    "# Hypothesis Testing\n",
    "\n",
    "We base our coding of the tests using credit dataset to answer a few questions."
   ]
  },
  {
   "cell_type": "markdown",
   "id": "5f9bd31a-cf11-438e-ade0-aa2e2a7c8bd4",
   "metadata": {},
   "source": [
    "### Problem 1\n",
    "\n",
    "We are using CREDIT data and are interested in purchases. The variable of interest is purchases (Y). \n",
    "Assume that you are the customer relation management (CRM) team manager and calculate the average purchase amount. \n",
    "If the average purchases are larger than 1,050 dollars, CRM will provide aggressive promotion to customers to make more strong bond between customers and the company. \n",
    "Using CREDIT data, calculate average purchases (in 95% CI) and make a decision regarding promotion (The information regarding CREDIT data set can be found in credit_code_info)\n",
    "\n"
   ]
  },
  {
   "cell_type": "code",
   "execution_count": null,
   "id": "79c01f27-64a8-4546-abb9-32f3c5b0e322",
   "metadata": {},
   "outputs": [],
   "source": []
  },
  {
   "cell_type": "markdown",
   "id": "a82ace92-135e-400a-beeb-790ffd407a94",
   "metadata": {},
   "source": [
    "### Problem 2 \n",
    "\n",
    "We are using US Part data (file name: part) and Total US data (file name: total). This data represents the number of illicit drug use death by county level in 2021. \n",
    "Assume that the U.S government uses US_Part data to calculate the average illicit drug use death (in 95% CI). \n",
    "Using the US Part data (file name: part) and Total US data (file name: total), calculate the average illicit drug use death (in 95% CI) by each dataset. If there is a difference in average illicit drug use death between the two datasets, describe the reason why there is a difference in average between the two data sets (Use the county_id, US_Part data, and Total US data).\n",
    "\n"
   ]
  },
  {
   "cell_type": "code",
   "execution_count": null,
   "id": "117719ac-69bf-4b9a-a4da-8349a7dd3d57",
   "metadata": {},
   "outputs": [],
   "source": []
  }
 ],
 "metadata": {
  "kernelspec": {
   "display_name": "Python 3 (ipykernel)",
   "language": "python",
   "name": "python3"
  },
  "language_info": {
   "codemirror_mode": {
    "name": "ipython",
    "version": 3
   },
   "file_extension": ".py",
   "mimetype": "text/x-python",
   "name": "python",
   "nbconvert_exporter": "python",
   "pygments_lexer": "ipython3",
   "version": "3.8.5"
  }
 },
 "nbformat": 4,
 "nbformat_minor": 5
}
