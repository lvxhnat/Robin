{
 "cells": [
  {
   "cell_type": "markdown",
   "id": "d5db48e4-bff2-4d7d-bb0a-5111f2460ce2",
   "metadata": {},
   "source": [
    "## Sampling Methods "
   ]
  },
  {
   "cell_type": "markdown",
   "id": "e350229d-15e8-4fda-a935-34302d13ddca",
   "metadata": {},
   "source": [
    "This is the first notebook that denotes a few sampling methods we can use to get random values from a stipulated distribution. Some methods we will go through are: \n",
    "\n",
    "1. Inverse Transform Sampling\n",
    "2. Accept-Reject Sampling \n",
    "3. Gibbs Sampling"
   ]
  },
  {
   "cell_type": "markdown",
   "id": "aed2b26e-5eef-4d56-a976-032345a1a7e9",
   "metadata": {},
   "source": [
    "### Inverse Transform Sampling"
   ]
  },
  {
   "cell_type": "markdown",
   "id": "b6745bcd-58c1-47ad-8bb5-d8d81ab8464d",
   "metadata": {},
   "source": [
    "Inverse transform sampling is a method for generating random numbers from any probability distribution by using its inverse cumulative distribution $F^{−1}(x)$. The reason why we do this is because its not always easy to randomly sample numbers from a distribution (e.g. Normal, Exponential) easily as opposed to a uniform distribution. Basically, we are using the uniform distribution to sample data [0,1] and transform it into the distribution we want using its function inverse.\n",
    "\n",
    "We want to understand this sampling method in order to gain a deeper understanding into how distribution sampling is done on computers.\n",
    "\n",
    "At this point, you can just stop reading here and take it as it is - We can randomly sample distributions by \n",
    "\n",
    "#### The Method\n",
    "1. Take a random point in the Uniform distribution \n",
    "2. Find the inverse of the CDF of the distribution we want to sample \n",
    "3. Pass the random point into the CDF inverse to get the random point. \n",
    "\n",
    "### An explanation into the intuition behind IT-Sampling: \n",
    "\n",
    "Now, for example, if we have a uniform distribution in range $[0,1]$ \\\n",
    "Now lets say we want a exponential ($\\lambda$) distribution.\n",
    "\n",
    "#### Now we know that a $\\lambda$ distribution is \n",
    "\n",
    "**Probability Density Function (PDF)**\n",
    "\n",
    "$f(x) = e^{-\\lambda x}$ for x ≥ 0 \\\n",
    "$0$ otherwise\n",
    "\n",
    "**Cumulative Density Function (CDF)**\n",
    "\n",
    "A CDF is the Probability that a value lies below a certain x, \n",
    "$F(X) = P(X≤x)$\n",
    "\n",
    "$F(x) = 1 - e ^ {-\\lambda x}$ for x ≥ 0 \\\n",
    "$0$ otherwise\n",
    "\n",
    "\n",
    "\n",
    "#### And uniform distribution \n",
    "\n",
    "$U = x$ for 0 ≤ x ≤ 1\n",
    "\n",
    "We want to apply a transformation $T$ to our uniform distribution to get $X$, where $X$ is the numbers in our exponential distribution\n",
    "\n",
    "$T(U) = X$\n",
    "\n",
    "\n",
    "\n",
    "#### Now, what is $T$? \n",
    "\n",
    "From CDF definition, we can now see \n",
    "\n",
    "$F(X) = P(X≤x) = P(T(U) ≤ x) = P(U ≤ T^{-1}(x)) = T^{-1}(x)$\n",
    "\n",
    "An important result is \n",
    "\n",
    "$F(X) = T^{-1}(x)$\\\n",
    "$F^{-1}(X) = T(x)$\n",
    "\n",
    "\n",
    "\n",
    "#### Now lets find exponential distribution \n",
    "\n",
    "$y = 1-e ^{-\\lambda x}$ \\\n",
    "$X = \\frac {-ln(1-y)} {\\lambda}$"
   ]
  },
  {
   "cell_type": "markdown",
   "id": "8834cb09-9f09-415c-851b-71817356b8f5",
   "metadata": {},
   "source": [
    "As long as we can inverse the function, we can use the inverse method."
   ]
  }
 ],
 "metadata": {
  "kernelspec": {
   "display_name": "Kedro (audrii)",
   "language": "python",
   "name": "kedro_audrii"
  },
  "language_info": {
   "codemirror_mode": {
    "name": "ipython",
    "version": 3
   },
   "file_extension": ".py",
   "mimetype": "text/x-python",
   "name": "python",
   "nbconvert_exporter": "python",
   "pygments_lexer": "ipython3",
   "version": "3.7.3"
  }
 },
 "nbformat": 4,
 "nbformat_minor": 5
}
