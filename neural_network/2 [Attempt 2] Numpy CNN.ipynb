{
 "cells": [
  {
   "cell_type": "markdown",
   "metadata": {},
   "source": [
    "### Read MNIST Dataset"
   ]
  },
  {
   "cell_type": "code",
   "execution_count": 1,
   "metadata": {},
   "outputs": [],
   "source": [
    "import gzip\n",
    "import numpy as np\n",
    "\n",
    "## Data from: http://yann.lecun.com/exdb/mnist/\n",
    "\n",
    "# the images were centered in a 28x28 image by computing the center of mass of the pixels\n",
    "# , and translating the image so as to position this point at the center of the 28x28 field.\n",
    "image_size = 28\n",
    "# 60000 train images available\n",
    "num_images = 60000 \n",
    "\n",
    "f = gzip.open('MNIST/train-images-idx3-ubyte.gz','r')\n",
    "f.read(16)\n",
    "buf = f.read(image_size * image_size * num_images)\n",
    "training_data = np.frombuffer(buf, dtype=np.uint8).astype(np.float32)\n",
    "X_train = training_data.reshape(num_images, image_size, image_size, 1)"
   ]
  },
  {
   "cell_type": "code",
   "execution_count": 2,
   "metadata": {},
   "outputs": [
    {
     "data": {
      "text/plain": [
       "(60000, (28, 28, 1))"
      ]
     },
     "execution_count": 2,
     "metadata": {},
     "output_type": "execute_result"
    }
   ],
   "source": [
    "len(X_train), X_train[0].shape"
   ]
  },
  {
   "cell_type": "code",
   "execution_count": 3,
   "metadata": {},
   "outputs": [],
   "source": [
    "f = gzip.open('MNIST/train-labels-idx1-ubyte.gz','r')\n",
    "f.read(8)\n",
    "y_train = np.frombuffer(f.read(60000), dtype=np.uint8).astype(np.float32)"
   ]
  },
  {
   "cell_type": "code",
   "execution_count": 4,
   "metadata": {},
   "outputs": [
    {
     "data": {
      "text/plain": [
       "(60000, (60000,))"
      ]
     },
     "execution_count": 4,
     "metadata": {},
     "output_type": "execute_result"
    }
   ],
   "source": [
    "len(y_train), y_train.shape"
   ]
  },
  {
   "cell_type": "code",
   "execution_count": 5,
   "metadata": {},
   "outputs": [
    {
     "name": "stdout",
     "output_type": "stream",
     "text": [
      "5.0\n"
     ]
    },
    {
     "data": {
      "image/png": "[encoded data removed]",
      "text/plain": [
       "<Figure size 432x288 with 1 Axes>"
      ]
     },
     "metadata": {
      "needs_background": "light"
     },
     "output_type": "display_data"
    }
   ],
   "source": [
    "import matplotlib.pyplot as plt\n",
    "image = np.asarray(X_train[0]).squeeze()\n",
    "print(y_train[0])\n",
    "plt.imshow(image)\n",
    "plt.show()"
   ]
  },
  {
   "cell_type": "code",
   "execution_count": 6,
   "metadata": {},
   "outputs": [
    {
     "name": "stdout",
     "output_type": "stream",
     "text": [
      "0 0 0 0 0 0 0 0 0 0 0 0 0 0 0 0 0 0 0 0 0 0 0 0 0 0 0 0\n",
      "0 0 0 0 0 0 0 0 0 0 0 0 0 0 0 0 0 0 0 0 0 0 0 0 0 0 0 0\n",
      "0 0 0 0 0 0 0 0 0 0 0 0 0 0 0 0 0 0 0 0 0 0 0 0 0 0 0 0\n",
      "0 0 0 0 0 0 0 0 0 0 0 0 0 0 0 0 0 0 0 0 0 0 0 0 0 0 0 0\n",
      "0 0 0 0 0 0 0 0 0 0 0 0 0 0 0 0 0 0 0 0 0 0 0 0 0 0 0 0\n",
      "0 0 0 0 0 0 0 0 0 0 0 0 3 18 18 18 126 136 175 26 166 255 247 127 0 0 0 0\n",
      "0 0 0 0 0 0 0 0 30 36 94 154 170 253 253 253 253 253 225 172 253 242 195 64 0 0 0 0\n",
      "0 0 0 0 0 0 0 49 238 253 253 253 253 253 253 253 253 251 93 82 82 56 39 0 0 0 0 0\n",
      "0 0 0 0 0 0 0 18 219 253 253 253 253 253 198 182 247 241 0 0 0 0 0 0 0 0 0 0\n",
      "0 0 0 0 0 0 0 0 80 156 107 253 253 205 11 0 43 154 0 0 0 0 0 0 0 0 0 0\n",
      "0 0 0 0 0 0 0 0 0 14 1 154 253 90 0 0 0 0 0 0 0 0 0 0 0 0 0 0\n",
      "0 0 0 0 0 0 0 0 0 0 0 139 253 190 2 0 0 0 0 0 0 0 0 0 0 0 0 0\n",
      "0 0 0 0 0 0 0 0 0 0 0 11 190 253 70 0 0 0 0 0 0 0 0 0 0 0 0 0\n",
      "0 0 0 0 0 0 0 0 0 0 0 0 35 241 225 160 108 1 0 0 0 0 0 0 0 0 0 0\n",
      "0 0 0 0 0 0 0 0 0 0 0 0 0 81 240 253 253 119 25 0 0 0 0 0 0 0 0 0\n",
      "0 0 0 0 0 0 0 0 0 0 0 0 0 0 45 186 253 253 150 27 0 0 0 0 0 0 0 0\n",
      "0 0 0 0 0 0 0 0 0 0 0 0 0 0 0 16 93 252 253 187 0 0 0 0 0 0 0 0\n",
      "0 0 0 0 0 0 0 0 0 0 0 0 0 0 0 0 0 249 253 249 64 0 0 0 0 0 0 0\n",
      "0 0 0 0 0 0 0 0 0 0 0 0 0 0 46 130 183 253 253 207 2 0 0 0 0 0 0 0\n",
      "0 0 0 0 0 0 0 0 0 0 0 0 39 148 229 253 253 253 250 182 0 0 0 0 0 0 0 0\n",
      "0 0 0 0 0 0 0 0 0 0 24 114 221 253 253 253 253 201 78 0 0 0 0 0 0 0 0 0\n",
      "0 0 0 0 0 0 0 0 23 66 213 253 253 253 253 198 81 2 0 0 0 0 0 0 0 0 0 0\n",
      "0 0 0 0 0 0 18 171 219 253 253 253 253 195 80 9 0 0 0 0 0 0 0 0 0 0 0 0\n",
      "0 0 0 0 55 172 226 253 253 253 253 244 133 11 0 0 0 0 0 0 0 0 0 0 0 0 0 0\n",
      "0 0 0 0 136 253 253 253 212 135 132 16 0 0 0 0 0 0 0 0 0 0 0 0 0 0 0 0\n",
      "0 0 0 0 0 0 0 0 0 0 0 0 0 0 0 0 0 0 0 0 0 0 0 0 0 0 0 0\n",
      "0 0 0 0 0 0 0 0 0 0 0 0 0 0 0 0 0 0 0 0 0 0 0 0 0 0 0 0\n",
      "0 0 0 0 0 0 0 0 0 0 0 0 0 0 0 0 0 0 0 0 0 0 0 0 0 0 0 0\n"
     ]
    }
   ],
   "source": [
    "for i in X_train[0].squeeze():\n",
    "    print(' '.join(map(lambda x: str(int(x)), i)))"
   ]
  },
  {
   "cell_type": "markdown",
   "metadata": {},
   "source": [
    "### Build Layer"
   ]
  },
  {
   "cell_type": "markdown",
   "metadata": {},
   "source": [
    "#### Sample with a 2D Array\n",
    "\n",
    "We build a single convolutional neural network that is only able to take in a single image\n",
    "\n",
    "Aiming to build only a CNN for greyscale here \n",
    "\n",
    "<img src=\"media/simple_cnn/architecture.png\" width=500/>"
   ]
  },
  {
   "cell_type": "markdown",
   "metadata": {},
   "source": [
    "### We follow the LeNet Architecture of the following: "
   ]
  },
  {
   "cell_type": "code",
   "execution_count": 28,
   "metadata": {},
   "outputs": [],
   "source": [
    "from tensorflow import keras\n",
    "from tensorflow.keras import layers\n",
    "\n",
    "model = keras.Sequential()\n",
    "model.add(layers.Conv2D(filters = 6, kernel_size = (5,5), activation = \"relu\", input_shape = (28, 28, 1)))\n",
    "model.add(layers.AveragePooling2D())\n",
    "model.add(layers.Conv2D(filters = 16, kernel_size = (5,5), activation = \"relu\"))\n",
    "model.add(layers.AveragePooling2D())\n",
    "model.add(layers.Flatten())\n",
    "model.add(layers.Dense(units = 120, activation = \"relu\"))\n",
    "model.add(layers.Dense(units = 84, activation = \"relu\"))\n",
    "model.add(layers.Dense(units = 10, activation = \"softmax\"))"
   ]
  },
  {
   "cell_type": "code",
   "execution_count": 29,
   "metadata": {},
   "outputs": [
    {
     "name": "stdout",
     "output_type": "stream",
     "text": [
      "Model: \"sequential_1\"\n",
      "_________________________________________________________________\n",
      "Layer (type)                 Output Shape              Param #   \n",
      "=================================================================\n",
      "conv2d_2 (Conv2D)            (None, 24, 24, 6)         156       \n",
      "_________________________________________________________________\n",
      "average_pooling2d_2 (Average (None, 12, 12, 6)         0         \n",
      "_________________________________________________________________\n",
      "conv2d_3 (Conv2D)            (None, 8, 8, 16)          2416      \n",
      "_________________________________________________________________\n",
      "average_pooling2d_3 (Average (None, 4, 4, 16)          0         \n",
      "_________________________________________________________________\n",
      "flatten_1 (Flatten)          (None, 256)               0         \n",
      "_________________________________________________________________\n",
      "dense_3 (Dense)              (None, 120)               30840     \n",
      "_________________________________________________________________\n",
      "dense_4 (Dense)              (None, 84)                10164     \n",
      "_________________________________________________________________\n",
      "dense_5 (Dense)              (None, 10)                850       \n",
      "=================================================================\n",
      "Total params: 44,426\n",
      "Trainable params: 44,426\n",
      "Non-trainable params: 0\n",
      "_________________________________________________________________\n"
     ]
    }
   ],
   "source": [
    "model.summary()"
   ]
  },
  {
   "cell_type": "markdown",
   "metadata": {},
   "source": [
    "##### Convolution"
   ]
  },
  {
   "cell_type": "code",
   "execution_count": 15,
   "metadata": {},
   "outputs": [],
   "source": [
    "def convolution(input_array: np.array, _kernel_filter: np.array, layer_type: str = \"input\"):\n",
    "    \n",
    "    ''' Convolve over a greyscale image matrix\n",
    "    \n",
    "    input_array -> [np.array] : 2D numpy square matrix containing image\n",
    "    _kernel_filter -> [np.array]: 3D filter containing layers of kernels\n",
    "    \n",
    "    '''\n",
    "    \n",
    "    filter_size = _kernel_filter.shape[0] ## Size of a single filter, how many kernels in a filter\n",
    "    kernel_size = _kernel_filter.shape[1] ## Size of a single kernel\n",
    "    mat_size = input_array.shape[1] ## Size of a single image \n",
    "\n",
    "    convolved_size = mat_size - _kernel_filter.shape[1] + 1 ## Size of single feature matrix after convolution\n",
    "\n",
    "    convolved_matrix = np.zeros((filter_size, convolved_size, convolved_size)) ## Initialize the matrix for the input values\n",
    "    \n",
    "    for kernel_index in range(filter_size):\n",
    "        kernel = _kernel_filter[kernel_index]\n",
    "        for i in range(convolved_size):\n",
    "            for j in range(convolved_size):\n",
    "                if layer_type == 'input':\n",
    "                    matrix_sum = np.sum(sample_data[i : i + kernel_size, j : j + kernel_size] * kernel)\n",
    "                else:\n",
    "                    matrix_sum = np.sum(sample_data[kernel_index, i : i + kernel_size, j : j + kernel_size] * kernel)\n",
    "                convolved_matrix[kernel_index, i, j] = matrix_sum\n",
    "    \n",
    "    return convolved_matrix"
   ]
  },
  {
   "cell_type": "markdown",
   "metadata": {},
   "source": [
    "##### Pooling"
   ]
  },
  {
   "cell_type": "code",
   "execution_count": 16,
   "metadata": {},
   "outputs": [],
   "source": [
    "def max_pool(input_array: np.array, _pooling_filter: np.array, filter_size: int = 2, stride: int = 2):\n",
    "    \n",
    "    ''' Max pool over an input matrix \n",
    "    \n",
    "    input_array -> [np.array] : 2D numpy square matrix containing image\n",
    "    _pooling_filter -> [np.array]: 3D filter containing layers of kernels\n",
    "    \n",
    "    '''\n",
    "    \n",
    "    pooled_size = (input_array.shape[2] - filter_size)/stride + 1\n",
    "    assert pooled_size % 1 == 0\n",
    "    pooled_size = int(pooled_size)\n",
    "    \n",
    "    pooled_matrix = np.zeros((layers, pooled_size, pooled_size)) ## Initialize the matrix for the input values\n",
    "    \n",
    "    for pooling_index in range(layers):\n",
    "        kernel = _pooling_filter[pooling_index]\n",
    "        for i in range(0, input_array.shape[1], stride):\n",
    "            for j in range(0, input_array.shape[1], stride):\n",
    "                matrix_maximum = np.max(input_array[pooling_index, i : i + filter_size, j : j + filter_size]) ## Input array is 3D !\n",
    "                pooled_matrix[pooling_index, i//stride, j//stride] = matrix_maximum\n",
    "    \n",
    "    return pooled_matrix"
   ]
  },
  {
   "cell_type": "markdown",
   "metadata": {},
   "source": [
    "##### Run Convolution Portion of the network"
   ]
  },
  {
   "cell_type": "code",
   "execution_count": 61,
   "metadata": {},
   "outputs": [
    {
     "data": {
      "text/plain": [
       "<module 'propnn' from '/Users/lohyikuang/Downloads/personal_projects/Robin/propnn.py'>"
      ]
     },
     "execution_count": 61,
     "metadata": {},
     "output_type": "execute_result"
    }
   ],
   "source": [
    "from importlib import reload\n",
    "import propnn\n",
    "reload(propnn)"
   ]
  },
  {
   "cell_type": "code",
   "execution_count": 62,
   "metadata": {},
   "outputs": [],
   "source": [
    "filter_size = 2\n",
    "kernel_size = 5\n",
    "layers = 10\n",
    "\n",
    "conv_1_kernel_filter = np.random.random((layers, kernel_size, kernel_size))\n",
    "conv_1_pooling_filter = np.random.random((layers,filter_size,filter_size))\n",
    "\n",
    "conv_2_kernel_filter = np.random.random((layers, kernel_size, kernel_size))\n",
    "conv_2_pooling_filter = np.random.random((layers,filter_size,filter_size))"
   ]
  },
  {
   "cell_type": "code",
   "execution_count": 63,
   "metadata": {},
   "outputs": [
    {
     "ename": "TypeError",
     "evalue": "unsupported operand type(s) for +: 'int' and 'tuple'",
     "output_type": "error",
     "traceback": [
      "\u001b[0;31m---------------------------------------------------------------------------\u001b[0m",
      "\u001b[0;31mTypeError\u001b[0m                                 Traceback (most recent call last)",
      "\u001b[0;32m<ipython-input-63-41d024c16ce1>\u001b[0m in \u001b[0;36m<module>\u001b[0;34m\u001b[0m\n\u001b[0;32m----> 1\u001b[0;31m \u001b[0mconv_1\u001b[0m \u001b[0;34m=\u001b[0m \u001b[0mpropnn\u001b[0m\u001b[0;34m.\u001b[0m\u001b[0mConv2D\u001b[0m\u001b[0;34m(\u001b[0m\u001b[0msample_data\u001b[0m\u001b[0;34m,\u001b[0m \u001b[0minput_shape\u001b[0m \u001b[0;34m=\u001b[0m \u001b[0;34m(\u001b[0m\u001b[0;36m28\u001b[0m\u001b[0;34m,\u001b[0m\u001b[0;36m28\u001b[0m\u001b[0;34m,\u001b[0m\u001b[0;36m1\u001b[0m\u001b[0;34m)\u001b[0m\u001b[0;34m)\u001b[0m\u001b[0;34m\u001b[0m\u001b[0;34m\u001b[0m\u001b[0m\n\u001b[0m\u001b[1;32m      2\u001b[0m \u001b[0mconv_1\u001b[0m\u001b[0;34m.\u001b[0m\u001b[0mshape\u001b[0m\u001b[0;34m\u001b[0m\u001b[0;34m\u001b[0m\u001b[0m\n",
      "\u001b[0;32m~/Downloads/personal_projects/Robin/propnn.py\u001b[0m in \u001b[0;36mConv2D\u001b[0;34m(input_array, activation, filters, kernel_size, input_shape)\u001b[0m\n\u001b[1;32m     13\u001b[0m         \u001b[0;32mfor\u001b[0m \u001b[0mi\u001b[0m \u001b[0;32min\u001b[0m \u001b[0mrange\u001b[0m\u001b[0;34m(\u001b[0m\u001b[0mconvolved_size\u001b[0m\u001b[0;34m)\u001b[0m\u001b[0;34m:\u001b[0m\u001b[0;34m\u001b[0m\u001b[0;34m\u001b[0m\u001b[0m\n\u001b[1;32m     14\u001b[0m             \u001b[0;32mfor\u001b[0m \u001b[0mj\u001b[0m \u001b[0;32min\u001b[0m \u001b[0mrange\u001b[0m\u001b[0;34m(\u001b[0m\u001b[0mconvolved_size\u001b[0m\u001b[0;34m)\u001b[0m\u001b[0;34m:\u001b[0m\u001b[0;34m\u001b[0m\u001b[0;34m\u001b[0m\u001b[0m\n\u001b[0;32m---> 15\u001b[0;31m                 \u001b[0mmatrix_sum\u001b[0m \u001b[0;34m=\u001b[0m \u001b[0mnp\u001b[0m\u001b[0;34m.\u001b[0m\u001b[0msum\u001b[0m\u001b[0;34m(\u001b[0m\u001b[0minput_array\u001b[0m\u001b[0;34m[\u001b[0m\u001b[0mkernel_index\u001b[0m\u001b[0;34m,\u001b[0m \u001b[0mi\u001b[0m \u001b[0;34m:\u001b[0m \u001b[0mi\u001b[0m \u001b[0;34m+\u001b[0m \u001b[0mkernel_size\u001b[0m\u001b[0;34m,\u001b[0m \u001b[0mj\u001b[0m \u001b[0;34m:\u001b[0m \u001b[0mj\u001b[0m \u001b[0;34m+\u001b[0m \u001b[0mkernel_size\u001b[0m\u001b[0;34m,\u001b[0m \u001b[0mkernel_index\u001b[0m\u001b[0;34m]\u001b[0m \u001b[0;34m*\u001b[0m \u001b[0mkernel\u001b[0m\u001b[0;34m)\u001b[0m\u001b[0;34m\u001b[0m\u001b[0;34m\u001b[0m\u001b[0m\n\u001b[0m\u001b[1;32m     16\u001b[0m                 \u001b[0mconvolved_matrix\u001b[0m\u001b[0;34m[\u001b[0m\u001b[0mkernel_index\u001b[0m\u001b[0;34m,\u001b[0m \u001b[0mi\u001b[0m\u001b[0;34m,\u001b[0m \u001b[0mj\u001b[0m\u001b[0;34m]\u001b[0m \u001b[0;34m=\u001b[0m \u001b[0mmatrix_sum\u001b[0m\u001b[0;34m\u001b[0m\u001b[0;34m\u001b[0m\u001b[0m\n\u001b[1;32m     17\u001b[0m \u001b[0;34m\u001b[0m\u001b[0m\n",
      "\u001b[0;31mTypeError\u001b[0m: unsupported operand type(s) for +: 'int' and 'tuple'"
     ]
    }
   ],
   "source": [
    "conv_1 = propnn.Conv2D(sample_data, input_shape = (28,28,1))\n",
    "conv_1.shape"
   ]
  },
  {
   "cell_type": "code",
   "execution_count": 20,
   "metadata": {},
   "outputs": [
    {
     "data": {
      "text/plain": [
       "(10, 12, 12)"
      ]
     },
     "execution_count": 20,
     "metadata": {},
     "output_type": "execute_result"
    }
   ],
   "source": [
    "pool_1 = max_pool(conv_1, conv_1_pooling_filter)\n",
    "pool_1.shape"
   ]
  },
  {
   "cell_type": "code",
   "execution_count": 21,
   "metadata": {},
   "outputs": [
    {
     "data": {
      "text/plain": [
       "(10, 8, 8)"
      ]
     },
     "execution_count": 21,
     "metadata": {},
     "output_type": "execute_result"
    }
   ],
   "source": [
    "conv_2 = convolution(pool_1, conv_2_kernel_filter)\n",
    "conv_2.shape"
   ]
  },
  {
   "cell_type": "code",
   "execution_count": 22,
   "metadata": {},
   "outputs": [
    {
     "data": {
      "text/plain": [
       "(10, 4, 4)"
      ]
     },
     "execution_count": 22,
     "metadata": {},
     "output_type": "execute_result"
    }
   ],
   "source": [
    "pool_2 = max_pool(conv_2, conv_2_pooling_filter)\n",
    "pool_2.shape"
   ]
  },
  {
   "cell_type": "code",
   "execution_count": 23,
   "metadata": {},
   "outputs": [
    {
     "data": {
      "text/plain": [
       "array([[[   0.        ,    0.        ,    0.        ,    0.        ],\n",
       "        [   0.        ,   13.23747982,  221.67059104,  449.99415983],\n",
       "        [   0.        ,   43.50561582,  518.45153155, 1107.47294395],\n",
       "        [   0.        ,   43.0326692 ,  823.51879309, 1930.3741725 ]],\n",
       "\n",
       "       [[   0.        ,    0.        ,    0.        ,    0.        ],\n",
       "        [   0.        ,   46.42508776,  283.98922943,  689.58071654],\n",
       "        [   0.        ,   53.18717825,  564.49997456, 1439.79407118],\n",
       "        [   0.        ,   56.61701401,  640.02638241, 1636.23042096]],\n",
       "\n",
       "       [[   0.        ,    0.        ,    0.        ,    0.        ],\n",
       "        [   0.        ,    9.14448429,  337.82840417,  876.82628587],\n",
       "        [   0.        ,   23.49936202,  693.15374318, 1792.91572494],\n",
       "        [   0.        ,   47.25986798,  674.53129598, 1935.73644705]],\n",
       "\n",
       "       [[   0.        ,    0.        ,    0.        ,    0.        ],\n",
       "        [   0.        ,   17.55023947,  369.80541745,  744.26866313],\n",
       "        [   0.        ,   56.94130565,  946.65260089, 1769.05272766],\n",
       "        [   0.        ,   65.31245322,  961.30025153, 1738.54639726]],\n",
       "\n",
       "       [[   0.        ,    0.        ,    0.        ,    0.        ],\n",
       "        [   0.        ,   22.76443548,  249.72092859,  443.68441387],\n",
       "        [   0.        ,   20.31778666,  530.11309639, 1304.59535215],\n",
       "        [   0.        ,   36.06840127,  735.64543994, 1510.84157797]],\n",
       "\n",
       "       [[   0.        ,    0.        ,    0.        ,    0.        ],\n",
       "        [   0.        ,    2.31125593,  303.1765349 ,  772.17124168],\n",
       "        [   0.        ,   40.76768001,  773.48771484, 1620.24773689],\n",
       "        [   0.        ,   53.61287045,  953.4713103 , 2024.24079002]],\n",
       "\n",
       "       [[   0.        ,    0.        ,    0.        ,    0.        ],\n",
       "        [   0.        ,   31.77381279,  473.76098142,  870.67561943],\n",
       "        [   0.        ,   32.11503565,  712.00259207, 1637.51041238],\n",
       "        [   0.        ,   50.07892074,  622.71996985, 1612.80491287]],\n",
       "\n",
       "       [[   0.        ,    0.        ,    0.        ,    0.        ],\n",
       "        [   0.        ,   22.62721971,  355.98902905,  746.8664933 ],\n",
       "        [   0.        ,   27.30396075,  417.96734444, 1113.5300227 ],\n",
       "        [   0.        ,   28.56838196,  512.60626105, 1515.47003417]],\n",
       "\n",
       "       [[   0.        ,    0.        ,    0.        ,    0.        ],\n",
       "        [   0.        ,   20.83970099,  308.83692822,  725.97280626],\n",
       "        [   0.        ,   47.7291626 ,  746.80259068, 1787.50051222],\n",
       "        [   0.        ,   32.46372603,  676.7306255 , 1667.69061786]],\n",
       "\n",
       "       [[   0.        ,    0.        ,    0.        ,    0.        ],\n",
       "        [   0.        ,   45.33748249,  483.01413506,  740.15602152],\n",
       "        [   0.        ,   39.0518184 ,  647.09413781, 1534.62700448],\n",
       "        [   0.        ,   38.51541461,  674.66411386, 1711.15154429]]])"
      ]
     },
     "execution_count": 23,
     "metadata": {},
     "output_type": "execute_result"
    }
   ],
   "source": [
    "pool_2"
   ]
  },
  {
   "cell_type": "code",
   "execution_count": null,
   "metadata": {},
   "outputs": [],
   "source": []
  }
 ],
 "metadata": {
  "kernelspec": {
   "display_name": "Python 3",
   "language": "python",
   "name": "python3"
  },
  "language_info": {
   "codemirror_mode": {
    "name": "ipython",
    "version": 3
   },
   "file_extension": ".py",
   "mimetype": "text/x-python",
   "name": "python",
   "nbconvert_exporter": "python",
   "pygments_lexer": "ipython3",
   "version": "3.8.5"
  }
 },
 "nbformat": 4,
 "nbformat_minor": 4
}
