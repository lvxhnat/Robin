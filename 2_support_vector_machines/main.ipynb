{
 "cells": [
  {
   "cell_type": "markdown",
   "metadata": {},
   "source": [
    "# Import Dataset"
   ]
  },
  {
   "cell_type": "markdown",
   "metadata": {},
   "source": [
    "1. Title: Iris Plants Database\n",
    "\tUpdated Sept 21 by C.Blake - Added discrepency information\n",
    "\n",
    "2. Sources:\n",
    "     (a) Creator: R.A. Fisher\n",
    "     (b) Donor: Michael Marshall (MARSHALL%PLU@io.arc.nasa.gov)\n",
    "     (c) Date: July, 1988\n",
    "\n",
    "3. Past Usage:\n",
    "   - Publications: too many to mention!!!  Here are a few.\n",
    "   1. Fisher,R.A. \"The use of multiple measurements in taxonomic problems\"\n",
    "      Annual Eugenics, 7, Part II, 179-188 (1936); also in \"Contributions\n",
    "      to Mathematical Statistics\" (John Wiley, NY, 1950).\n",
    "   2. Duda,R.O., & Hart,P.E. (1973) Pattern Classification and Scene Analysis.\n",
    "      (Q327.D83) John Wiley & Sons.  ISBN 0-471-22361-1.  See page 218.\n",
    "   3. Dasarathy, B.V. (1980) \"Nosing Around the Neighborhood: A New System\n",
    "      Structure and Classification Rule for Recognition in Partially Exposed\n",
    "      Environments\".  IEEE Transactions on Pattern Analysis and Machine\n",
    "      Intelligence, Vol. PAMI-2, No. 1, 67-71.\n",
    "      -- Results:\n",
    "         -- very low misclassification rates (0% for the setosa class)\n",
    "   4. Gates, G.W. (1972) \"The Reduced Nearest Neighbor Rule\".  IEEE \n",
    "      Transactions on Information Theory, May 1972, 431-433.\n",
    "      -- Results:\n",
    "         -- very low misclassification rates again\n",
    "   5. See also: 1988 MLC Proceedings, 54-64.  Cheeseman et al's AUTOCLASS II\n",
    "      conceptual clustering system finds 3 classes in the data.\n",
    "\n",
    "4. Relevant Information:\n",
    "   --- This is perhaps the best known database to be found in the pattern\n",
    "       recognition literature.  Fisher's paper is a classic in the field\n",
    "       and is referenced frequently to this day.  (See Duda & Hart, for\n",
    "       example.)  The data set contains 3 classes of 50 instances each,\n",
    "       where each class refers to a type of iris plant.  One class is\n",
    "       linearly separable from the other 2; the latter are NOT linearly\n",
    "       separable from each other.\n",
    "   --- Predicted attribute: class of iris plant.\n",
    "   --- This is an exceedingly simple domain.\n",
    "   --- This data differs from the data presented in Fishers article\n",
    "\t(identified by Steve Chadwick,  spchadwick@espeedaz.net )\n",
    "\tThe 35th sample should be: 4.9,3.1,1.5,0.2,\"Iris-setosa\"\n",
    "\twhere the error is in the fourth feature.\n",
    "\tThe 38th sample: 4.9,3.6,1.4,0.1,\"Iris-setosa\"\n",
    "\twhere the errors are in the second and third features.  \n",
    "\n",
    "5. Number of Instances: 150 (50 in each of three classes)\n",
    "\n",
    "6. Number of Attributes: 4 numeric, predictive attributes and the class\n",
    "\n",
    "7. Attribute Information:\n",
    "   1. sepal length in cm\n",
    "   2. sepal width in cm\n",
    "   3. petal length in cm\n",
    "   4. petal width in cm\n",
    "   5. class: \n",
    "      -- Iris Setosa\n",
    "      -- Iris Versicolour\n",
    "      -- Iris Virginica\n",
    "\n",
    "8. Missing Attribute Values: None\n",
    "\n",
    "Summary Statistics:\n",
    "\t         Min  Max   Mean    SD   Class Correlation\n",
    "   sepal length: 4.3  7.9   5.84  0.83    0.7826   \n",
    "    sepal width: 2.0  4.4   3.05  0.43   -0.4194\n",
    "   petal length: 1.0  6.9   3.76  1.76    0.9490  (high!)\n",
    "    petal width: 0.1  2.5   1.20  0.76    0.9565  (high!)\n",
    "\n",
    "9. Class Distribution: 33.3% for each of 3 classes."
   ]
  },
  {
   "cell_type": "code",
   "execution_count": 7,
   "metadata": {},
   "outputs": [],
   "source": [
    "import numpy as np\n",
    "import pandas as pd\n",
    "import matplotlib.pyplot as plt\n",
    "\n",
    "df = pd.read_csv(\"https://raw.githubusercontent.com/jbrownlee/Datasets/master/iris.csv\", header = None)\n",
    "df.columns = ['sepal_length', 'sepal_width', 'petal_length', 'petal_width', 'class']\n",
    "df = df[df['class'].isin(['Iris-versicolor', 'Iris-virginica'])]\n",
    "\n",
    "one_hot_encode = {'Iris-versicolor': 1, 'Iris-virginica': -1}\n",
    "df['encoded_class'] = df['class'].apply(lambda x: one_hot_encode[x])"
   ]
  },
  {
   "cell_type": "code",
   "execution_count": null,
   "metadata": {},
   "outputs": [],
   "source": [
    "plt.figure(figsize = (8, 5))\n",
    "plt.scatter(df.sepal_length, df.petal_length, c = df['encoded_class'])"
   ]
  }
 ],
 "metadata": {
  "kernelspec": {
   "display_name": "Python 3 (ipykernel)",
   "language": "python",
   "name": "python3"
  },
  "language_info": {
   "codemirror_mode": {
    "name": "ipython",
    "version": 3
   },
   "file_extension": ".py",
   "mimetype": "text/x-python",
   "name": "python",
   "nbconvert_exporter": "python",
   "pygments_lexer": "ipython3",
   "version": "3.8.5"
  }
 },
 "nbformat": 4,
 "nbformat_minor": 4
}
