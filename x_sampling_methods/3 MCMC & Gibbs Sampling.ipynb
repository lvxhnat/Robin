{
 "cells": [
  {
   "cell_type": "markdown",
   "id": "1dc558d4-3b83-4d06-aef1-9ed0938fed13",
   "metadata": {},
   "source": [
    "### Markov Chain"
   ]
  },
  {
   "cell_type": "markdown",
   "id": "d64cb535-a5f2-4883-ac2b-709ba0be7f10",
   "metadata": {},
   "source": [
    "A Markov chain or Markov process is a stochastic model describing a sequence of possible events in which the probability of each event depends only on the state attained in the previous event. In a diagram, this will look something like: "
   ]
  },
  {
   "cell_type": "markdown",
   "id": "0e06bd7e-961b-4ffc-a172-2420b01e56cb",
   "metadata": {},
   "source": [
    "<img src = \"markov.png\"/>"
   ]
  },
  {
   "cell_type": "markdown",
   "id": "eef52708-344c-4040-903f-94759a7095ba",
   "metadata": {},
   "source": [
    "Hence to generalise this, a state at time $S_n$ will be\n",
    "\n",
    "$S_n = P^nS_0$"
   ]
  },
  {
   "cell_type": "markdown",
   "id": "71e772e6-39e8-43cb-882e-f809b964b833",
   "metadata": {},
   "source": [
    "**References**\n",
    "\n",
    "[Markov Chain and Transition Matrices](https://www.youtube.com/watch?v=1GKtfgwf3ig) | Youtube"
   ]
  },
  {
   "cell_type": "markdown",
   "id": "3ff68351-f5ea-461f-96e4-84207fae98eb",
   "metadata": {},
   "source": [
    "### Stationary Distribution of a Markov Chain"
   ]
  },
  {
   "cell_type": "markdown",
   "id": "34b674d6-c23a-484b-8aa4-45f270a26481",
   "metadata": {},
   "source": [
    "The stationary distribution of a Markov chain describes the distribution of Xt after a sufficiently long time that the distribution of Xt does not change any longer. That is \n",
    "\n",
    "$ X_1 \\rightarrow X_2 \\rightarrow X_3 \\rightarrow ... \\rightarrow X_t \\rightarrow X_{t+1} \\rightarrow X_{t+2} $\n",
    "\n",
    "Eventually we will get to values of $X_n$ that follows a static distribution e.g. $X_t ... X_{t+6}$ We then throw away anything before $X_t$ (Also called burn-in values) and take these values to be a simulation to our static distribution\n",
    "\n",
    "Basically - Is there a vector of starting probabilities such that when we arrive at the distribution, it stays constant/static? If the markov chain arrives at a certain state, it has a tendency to stay in that state. i.e. $P(X_{t+1} = S) = P(X_t = S)$\n",
    "\n",
    "Where $\\pi$ is the vector of starting probabilities and $P$ is the transition matrix\n",
    "\n",
    "solve $\\pi P=\\pi$ \n",
    "\n",
    "for $\\pi$\n",
    "\n",
    "which is essentially the same as finding the eigenvector for $AX=\\lambda X$ \n",
    "where the eigenvalue is $\\lambda = 1$\n",
    "\n",
    "**References**\\\n",
    "[Stationary Distribution of a Markov Chain](https://www.youtube.com/watch?v=4sXiCxZDrTU) | Youtube"
   ]
  },
  {
   "cell_type": "markdown",
   "id": "8ed7b92f-ed1b-4b69-9814-b29339acbb43",
   "metadata": {},
   "source": [
    "### Markov Chain Monte Carlo"
   ]
  },
  {
   "cell_type": "markdown",
   "id": "534042a2-db06-4558-bbf0-b890bd0b0f07",
   "metadata": {},
   "source": [
    "MCMC Is a collection of different methods and algorithms. But the general idea: "
   ]
  },
  {
   "cell_type": "markdown",
   "id": "1644fc78-1f56-4a87-83ba-a09504325d1d",
   "metadata": {},
   "source": [
    "Solves the issue in *Accept and Reject Sampling* where lets say we sample a value on $g$, and we get to a sample that very closely approximates $f$, we dont use this information for our next sampling, but instead, we draw a fresh random sample from $g$ to approximate $f$. This is not ideal in cases where $f$ has a peak, as shown in the graph in the notebook on *Accept and Reject Sampling*"
   ]
  },
  {
   "cell_type": "markdown",
   "id": "846d674a-129f-4f34-abd4-6f4409539f14",
   "metadata": {},
   "source": [
    "Bringing it in again, lets say we sample $g$ (the normal dist) and get a point ~0.9. This is very close to our power distribution and is therefore *accepted* (using the accept reject sampling method, which determines this as $\\frac {f} {Mg} $). However, we dont use this information in the next sampling and instead draw a fresh sample that doesnt depend on info gained in the last, for example, sampling a point at -2, instead of somewhere near the peak, say 0.7. MCMC aims to solve this issue by bringing in the context of previous sampling stages."
   ]
  },
  {
   "cell_type": "code",
   "execution_count": 11,
   "id": "07a42463-eba9-4008-911e-d7c478927eaa",
   "metadata": {},
   "outputs": [
    {
     "data": {
      "text/plain": [
       "(array([  2.,   0.,   1.,   4.,   6.,   7.,   8.,  10.,  23.,  25.,  37.,\n",
       "         61.,  83., 131., 143., 184., 244., 290., 359., 408., 453., 523.,\n",
       "        532., 540., 599., 574., 607., 574., 539., 487., 437., 402., 357.,\n",
       "        328., 249., 204., 151., 108.,  90.,  69.,  53.,  28.,  25.,  12.,\n",
       "         11.,  10.,   6.,   2.,   1.,   3.]),\n",
       " array([-383.43364726, -368.39686927, -353.36009127, -338.32331328,\n",
       "        -323.28653528, -308.24975728, -293.21297929, -278.17620129,\n",
       "        -263.1394233 , -248.1026453 , -233.0658673 , -218.02908931,\n",
       "        -202.99231131, -187.95553331, -172.91875532, -157.88197732,\n",
       "        -142.84519933, -127.80842133, -112.77164333,  -97.73486534,\n",
       "         -82.69808734,  -67.66130934,  -52.62453135,  -37.58775335,\n",
       "         -22.55097536,   -7.51419736,    7.52258064,   22.55935863,\n",
       "          37.59613663,   52.63291463,   67.66969262,   82.70647062,\n",
       "          97.74324861,  112.78002661,  127.81680461,  142.8535826 ,\n",
       "         157.8903606 ,  172.92713859,  187.96391659,  203.00069459,\n",
       "         218.03747258,  233.07425058,  248.11102858,  263.14780657,\n",
       "         278.18458457,  293.22136256,  308.25814056,  323.29491856,\n",
       "         338.33169655,  353.36847455,  368.40525255]),\n",
       " <BarContainer object of 50 artists>)"
      ]
     },
     "execution_count": 11,
     "metadata": {},
     "output_type": "execute_result"
    },
    {
     "data": {
      "image/png": "[encoded data removed]",
      "text/plain": [
       "<Figure size 432x288 with 1 Axes>"
      ]
     },
     "metadata": {
      "needs_background": "light"
     },
     "output_type": "display_data"
    }
   ],
   "source": [
    "plt.hist(np.random.normal(scale = 100, size = (10000, )), bins = 50)"
   ]
  },
  {
   "cell_type": "code",
   "execution_count": 1,
   "id": "92edf7b8-347d-4b6d-8532-318cb0685a33",
   "metadata": {},
   "outputs": [
    {
     "data": {
      "image/png": "[encoded data removed]",
      "text/plain": [
       "<Figure size 432x288 with 1 Axes>"
      ]
     },
     "metadata": {
      "needs_background": "light"
     },
     "output_type": "display_data"
    }
   ],
   "source": [
    "g = np.random.normal(size = (10000,))\n",
    "f = np.random.power(1.5, size = (10000, ))\n",
    "\n",
    "nhist = plt.hist(g, bins = 50)\n",
    "phist = plt.hist(f, bins = 50)\n",
    "plt.show() "
   ]
  },
  {
   "cell_type": "markdown",
   "id": "e4ac197f-93aa-4e03-988d-ba7f9e6bdc86",
   "metadata": {},
   "source": [
    "Our goal will be to arrive at a stationary distribution such that it models our stationary distribution - with probability density function $f$ well enough through a series of markov chain simulations."
   ]
  },
  {
   "cell_type": "markdown",
   "id": "98c01545-b5b7-4ba9-b0e6-04bfa5349477",
   "metadata": {},
   "source": [
    "There a few MCMC algorithms that will allow us to arrive at the stationary distribution eventually, such as :\n",
    "1. The Metropolis Hastings Algorithm \n",
    "2. Gibbs Sampling"
   ]
  },
  {
   "cell_type": "markdown",
   "id": "5b0d5e3c-6872-48f8-9264-bde76f1b8b89",
   "metadata": {},
   "source": [
    "So to sum up, in real world situations where our distributions are irregular, it will be very inefficient to sample our distributions using methods such as AR or IT sampling (for reason stated in the notebooks), so we should use MCMC methods as it allows us to take into consideration previous sampling time steps in order to sample our data. (Make our samples dependent on each other)"
   ]
  },
  {
   "cell_type": "markdown",
   "id": "455ef9cc-ab6f-4a3b-b7cf-408026704f0e",
   "metadata": {},
   "source": [
    "#### Metropolis Hastings Algorithm\n",
    "\n",
    "1. Sample from an easier distribution such that the current sample depends on the previous sample, i.e. $g(x_{t+1}|x_t)$ \n",
    "* What this is saying is: Look at our previous sample, center our distribution at $x_t$, then sample the next candidate from that distribution. Then continue this process.\n",
    "\n",
    "Take note that this is different from the **Metropolis Algorithm**, which the candidate distribution has a *symmetric distribution*, which means there is an equally likely chance that $x_{t+1}$ is sampled from above or below the $x_t$ value. In the **Metropolis-Hastings Algorithm**, the candidate distribution is asymmetric.\n",
    "\n",
    "2. Accept $x_{t+1}$ with some acceptance probability $A(X_t \\rightarrow X_{t+1})$"
   ]
  },
  {
   "cell_type": "markdown",
   "id": "4494d879-d690-4d26-ba9e-7c9aa29728cd",
   "metadata": {},
   "source": [
    "#### Gibbs sampling "
   ]
  },
  {
   "cell_type": "markdown",
   "id": "228b50a9-107c-4d0b-acc2-f3ead000c2a8",
   "metadata": {},
   "source": [
    "A super useful resource for learning Gibb's Sampling: \n",
    "[Gibbs sampling for the uninitiated](http://users.umiacs.umd.edu/~resnik/pubs/gibbs.v0.3.pdf) \n",
    "\n",
    "It covers most of whatever that needs to be known, so just go there to learn about it :)"
   ]
  },
  {
   "cell_type": "markdown",
   "id": "7f0471d7-3f48-4144-a35b-8af1b4e53f2e",
   "metadata": {},
   "source": [
    "**Gibbs sampling from scratch**"
   ]
  },
  {
   "cell_type": "code",
   "execution_count": 34,
   "id": "699ea00f-1b3b-4de4-af9c-e4431a9640b0",
   "metadata": {},
   "outputs": [],
   "source": [
    "## Start point \n",
    "samples = {'x': [1], 'y': [-1]}\n",
    "\n",
    "num_samples = 10000"
   ]
  },
  {
   "cell_type": "code",
   "execution_count": 33,
   "id": "4ace89b5-d09f-4ff5-a7de-c958af7f401a",
   "metadata": {},
   "outputs": [
    {
     "data": {
      "text/plain": [
       "<matplotlib.collections.PathCollection at 0x7fe4aa9de400>"
      ]
     },
     "execution_count": 33,
     "metadata": {},
     "output_type": "execute_result"
    },
    {
     "data": {
      "image/png": "[encoded data removed]",
      "text/plain": [
       "<Figure size 432x288 with 1 Axes>"
      ]
     },
     "metadata": {
      "needs_background": "light"
     },
     "output_type": "display_data"
    }
   ],
   "source": [
    "target = np.random.multivariate_normal([0,0], [[1, 0.5], [0.5, 1]], (num_samples,))\n",
    "plt.scatter(pd.DataFrame(target)[0], pd.DataFrame(target)[1])"
   ]
  },
  {
   "cell_type": "code",
   "execution_count": 28,
   "id": "3cf1ecbd-4823-4c31-b684-12d66f1d53bb",
   "metadata": {},
   "outputs": [],
   "source": [
    "for _ in range(num_samples):\n",
    "    curr_y = samples['y'][-1]\n",
    "    new_x = np.random.normal(curr_y/2, np.sqrt(3/4))\n",
    "    new_y = np.random.normal(new_x/2, np.sqrt(3/4))\n",
    "    samples['x'].append(new_x)\n",
    "    samples['y'].append(new_y)"
   ]
  },
  {
   "cell_type": "code",
   "execution_count": 7,
   "id": "69509f7e-52b4-49a6-b009-583bb7294339",
   "metadata": {},
   "outputs": [
    {
     "data": {
      "text/plain": [
       "<matplotlib.collections.PathCollection at 0x7fe4782cd278>"
      ]
     },
     "execution_count": 7,
     "metadata": {},
     "output_type": "execute_result"
    },
    {
     "data": {
      "image/png": "[encoded data removed]",
      "text/plain": [
       "<Figure size 432x288 with 1 Axes>"
      ]
     },
     "metadata": {
      "needs_background": "light"
     },
     "output_type": "display_data"
    }
   ],
   "source": [
    "plt.scatter(samples['x'], samples['y'])"
   ]
  }
 ],
 "metadata": {
  "kernelspec": {
   "display_name": "Kedro (audrii)",
   "language": "python",
   "name": "kedro_audrii"
  },
  "language_info": {
   "codemirror_mode": {
    "name": "ipython",
    "version": 3
   },
   "file_extension": ".py",
   "mimetype": "text/x-python",
   "name": "python",
   "nbconvert_exporter": "python",
   "pygments_lexer": "ipython3",
   "version": "3.7.3"
  }
 },
 "nbformat": 4,
 "nbformat_minor": 5
}
