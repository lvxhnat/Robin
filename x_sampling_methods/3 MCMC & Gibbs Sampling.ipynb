{
 "cells": [
  {
   "cell_type": "markdown",
   "id": "1dc558d4-3b83-4d06-aef1-9ed0938fed13",
   "metadata": {},
   "source": [
    "### Markov Chain"
   ]
  },
  {
   "cell_type": "markdown",
   "id": "d64cb535-a5f2-4883-ac2b-709ba0be7f10",
   "metadata": {},
   "source": [
    "A Markov chain or Markov process is a stochastic model describing a sequence of possible events in which the probability of each event depends only on the state attained in the previous event. In a diagram, this will look something like: "
   ]
  },
  {
   "cell_type": "markdown",
   "id": "0e06bd7e-961b-4ffc-a172-2420b01e56cb",
   "metadata": {},
   "source": [
    "<img src = \"markov.png\"/>"
   ]
  },
  {
   "cell_type": "markdown",
   "id": "eef52708-344c-4040-903f-94759a7095ba",
   "metadata": {},
   "source": [
    "Hence to generalise this, a state at time $S_n$ will be\n",
    "\n",
    "$S_n = P^nS_0$"
   ]
  },
  {
   "cell_type": "markdown",
   "id": "71e772e6-39e8-43cb-882e-f809b964b833",
   "metadata": {},
   "source": [
    "**References**\n",
    "\n",
    "[Markov Chain and Transition Matrices](https://www.youtube.com/watch?v=1GKtfgwf3ig) | Youtube"
   ]
  },
  {
   "cell_type": "markdown",
   "id": "3ff68351-f5ea-461f-96e4-84207fae98eb",
   "metadata": {},
   "source": [
    "### Stationary Distribution of a Markov Chain"
   ]
  },
  {
   "cell_type": "markdown",
   "id": "34b674d6-c23a-484b-8aa4-45f270a26481",
   "metadata": {},
   "source": [
    "The stationary distribution of a Markov chain describes the distribution of Xt after a sufficiently long time that the distribution of Xt does not change any longer. That is \n",
    "\n",
    "$ X_1 \\rightarrow X_2 \\rightarrow X_3 \\rightarrow ... \\rightarrow X_t \\rightarrow X_{t+1} \\rightarrow X_{t+2} $\n",
    "\n",
    "Eventually we will get to values of $X_n$ that follows a static distribution e.g. $X_t ... X_{t+6}$ We then throw away anything before $X_t$ (Also called burn-in values) and take these values to be a simulation to our static distribution\n",
    "\n",
    "Basically - Is there a vector of starting probabilities such that when we arrive at the distribution, it stays constant/static? If the markov chain arrives at a certain state, it has a tendency to stay in that state. i.e. $P(X_{t+1} = S) = P(X_t = S)$\n",
    "\n",
    "Where $\\pi$ is the vector of starting probabilities and $P$ is the transition matrix\n",
    "\n",
    "solve $\\pi P=\\pi$ \n",
    "\n",
    "for $\\pi$\n",
    "\n",
    "which is essentially the same as finding the eigenvector for $AX=\\lambda X$ \n",
    "where the eigenvalue is $\\lambda = 1$\n",
    "\n",
    "**References**\\\n",
    "[Stationary Distribution of a Markov Chain](https://www.youtube.com/watch?v=4sXiCxZDrTU) | Youtube"
   ]
  },
  {
   "cell_type": "markdown",
   "id": "8ed7b92f-ed1b-4b69-9814-b29339acbb43",
   "metadata": {},
   "source": [
    "### Markov Chain Monte Carlo"
   ]
  },
  {
   "cell_type": "markdown",
   "id": "534042a2-db06-4558-bbf0-b890bd0b0f07",
   "metadata": {},
   "source": [
    "MCMC Is a collection of different methods and algorithms. But the general idea: "
   ]
  },
  {
   "cell_type": "markdown",
   "id": "1644fc78-1f56-4a87-83ba-a09504325d1d",
   "metadata": {},
   "source": [
    "Solves the issue in *Accept and Reject Sampling* where lets say we sample a value on $g$, and we get to a sample that very closely approximates $f$, we dont use this information for our next sampling, but instead, we draw a fresh random sample from $g$ to approximate $f$. This is not ideal in cases where $f$ has a peak, as shown in the graph in the notebook on *Accept and Reject Sampling*"
   ]
  },
  {
   "cell_type": "markdown",
   "id": "846d674a-129f-4f34-abd4-6f4409539f14",
   "metadata": {},
   "source": [
    "Bringing it in again, lets say we sample $g$ (the normal dist) and get a point ~0.9. This is very close to our power distribution and is therefore *accepted* (using the accept reject sampling method, which determines this as $\\frac {f} {Mg} $). However, we dont use this information in the next sampling and instead draw a fresh sample that doesnt depend on info gained in the last, for example, sampling a point at -2, instead of somewhere near the peak, say 0.7. MCMC aims to solve this issue by bringing in the context of previous sampling stages."
   ]
  },
  {
   "cell_type": "code",
   "execution_count": 1,
   "id": "92edf7b8-347d-4b6d-8532-318cb0685a33",
   "metadata": {},
   "outputs": [
    {
     "data": {
      "image/png": "[encoded data removed]",
      "text/plain": [
       "<Figure size 432x288 with 1 Axes>"
      ]
     },
     "metadata": {
      "needs_background": "light"
     },
     "output_type": "display_data"
    }
   ],
   "source": [
    "g = np.random.normal(size = (10000,))\n",
    "f = np.random.power(1.5, size = (10000, ))\n",
    "\n",
    "nhist = plt.hist(g, bins = 50)\n",
    "phist = plt.hist(f, bins = 50)\n",
    "plt.show() "
   ]
  },
  {
   "cell_type": "markdown",
   "id": "e4ac197f-93aa-4e03-988d-ba7f9e6bdc86",
   "metadata": {},
   "source": [
    "Our goal will be to arrive at a stationary distribution such that it models our stationary distribution - with probability density function $f$ well enough through a series of markov chain simulations."
   ]
  },
  {
   "cell_type": "markdown",
   "id": "98c01545-b5b7-4ba9-b0e6-04bfa5349477",
   "metadata": {},
   "source": [
    "There a few MCMC algorithms that will allow us to arrive at the stationary distribution eventually, such as :\n",
    "1. The Metropolis Hastings Algorithm \n",
    "2. Gibbs Sampling"
   ]
  },
  {
   "cell_type": "markdown",
   "id": "5b0d5e3c-6872-48f8-9264-bde76f1b8b89",
   "metadata": {},
   "source": [
    "So to sum up, in real world situations where our distributions are irregular, it will be very inefficient to sample our distributions using methods such as AR or IT sampling (for reason stated in the notebooks), so we should use MCMC methods as it allows us to take into consideration previous sampling time steps in order to sample our data. (Make our samples dependent on each other)"
   ]
  },
  {
   "cell_type": "markdown",
   "id": "455ef9cc-ab6f-4a3b-b7cf-408026704f0e",
   "metadata": {},
   "source": [
    "#### Metropolis Hastings Algorithm\n",
    "\n",
    "1. Sample from an easier distribution such that the current sample depends on the previous sample, i.e. $g(x_{t+1}|x_t)$ \n",
    "* What this is saying is: Look at our previous sample, center our distribution at $x_t$, then sample the next candidate from that distribution. Then continue this process.\n",
    "\n",
    "Take note that this is different from the **Metropolis Algorithm**, which the candidate distribution has a *symmetric distribution*, which means there is an equally likely chance that $x_{t+1}$ is sampled from above or below the $x_t$ value. In the **Metropolis-Hastings Algorithm**, the candidate distribution is asymmetric.\n",
    "\n",
    "2. Accept $x_{t+1}$ with some acceptance probability $A(X_t \\rightarrow X_{t+1})$"
   ]
  },
  {
   "cell_type": "markdown",
   "id": "4494d879-d690-4d26-ba9e-7c9aa29728cd",
   "metadata": {},
   "source": [
    "###  Gibbs sampling \n",
    "$\\theta_1, \\theta_2$"
   ]
  },
  {
   "cell_type": "code",
   "execution_count": null,
   "id": "699ea00f-1b3b-4de4-af9c-e4431a9640b0",
   "metadata": {},
   "outputs": [],
   "source": []
  }
 ],
 "metadata": {
  "kernelspec": {
   "display_name": "Kedro (audrii)",
   "language": "python",
   "name": "kedro_audrii"
  },
  "language_info": {
   "codemirror_mode": {
    "name": "ipython",
    "version": 3
   },
   "file_extension": ".py",
   "mimetype": "text/x-python",
   "name": "python",
   "nbconvert_exporter": "python",
   "pygments_lexer": "ipython3",
   "version": "3.7.3"
  }
 },
 "nbformat": 4,
 "nbformat_minor": 5
}
