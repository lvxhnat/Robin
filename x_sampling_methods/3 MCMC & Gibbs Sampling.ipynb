{
 "cells": [
  {
   "cell_type": "markdown",
   "id": "1dc558d4-3b83-4d06-aef1-9ed0938fed13",
   "metadata": {},
   "source": [
    "### Markov Chain"
   ]
  },
  {
   "cell_type": "markdown",
   "id": "d64cb535-a5f2-4883-ac2b-709ba0be7f10",
   "metadata": {},
   "source": [
    "A Markov chain or Markov process is a stochastic model describing a sequence of possible events in which the probability of each event depends only on the state attained in the previous event. In a diagram, this will look something like: "
   ]
  },
  {
   "cell_type": "markdown",
   "id": "0e06bd7e-961b-4ffc-a172-2420b01e56cb",
   "metadata": {},
   "source": [
    "<img src = \"markov.png\"/>"
   ]
  },
  {
   "cell_type": "markdown",
   "id": "eef52708-344c-4040-903f-94759a7095ba",
   "metadata": {},
   "source": [
    "Hence to generalise this, a state at time $S_n$ will be\n",
    "\n",
    "$S_n = P^nS_0$"
   ]
  },
  {
   "cell_type": "markdown",
   "id": "71e772e6-39e8-43cb-882e-f809b964b833",
   "metadata": {},
   "source": [
    "**References**\n",
    "\n",
    "[Markov Chain and Transition Matrices](https://www.youtube.com/watch?v=1GKtfgwf3ig) | Youtube"
   ]
  },
  {
   "cell_type": "markdown",
   "id": "8ed7b92f-ed1b-4b69-9814-b29339acbb43",
   "metadata": {},
   "source": [
    "### Markov Chain Monte Carlo"
   ]
  },
  {
   "cell_type": "markdown",
   "id": "1644fc78-1f56-4a87-83ba-a09504325d1d",
   "metadata": {},
   "source": [
    "Solves the issue in *Accept and Reject Sampling* where lets say we sample a value on $g$, and we get to a sample that very closely approximates $f$, we dont use this information for our next sampling, but instead, we draw a fresh random sample from $g$ to approximate $f$. This is not ideal in cases where $f$ has a peak, as shown in the graph in the notebook on *Accept and Reject Sampling*"
   ]
  },
  {
   "cell_type": "markdown",
   "id": "4494d879-d690-4d26-ba9e-7c9aa29728cd",
   "metadata": {},
   "source": [
    "###  Gibbs sampling \n",
    "$\\theta_1, \\theta_2$"
   ]
  },
  {
   "cell_type": "code",
   "execution_count": null,
   "id": "699ea00f-1b3b-4de4-af9c-e4431a9640b0",
   "metadata": {},
   "outputs": [],
   "source": []
  }
 ],
 "metadata": {
  "kernelspec": {
   "display_name": "Kedro (audrii)",
   "language": "python",
   "name": "kedro_audrii"
  },
  "language_info": {
   "codemirror_mode": {
    "name": "ipython",
    "version": 3
   },
   "file_extension": ".py",
   "mimetype": "text/x-python",
   "name": "python",
   "nbconvert_exporter": "python",
   "pygments_lexer": "ipython3",
   "version": "3.7.3"
  }
 },
 "nbformat": 4,
 "nbformat_minor": 5
}
