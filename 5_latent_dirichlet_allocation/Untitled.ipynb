{
 "cells": [
  {
   "cell_type": "code",
   "execution_count": 6,
   "id": "10cda25b-aba1-4e9b-bafd-89a3c97c99b5",
   "metadata": {},
   "outputs": [],
   "source": [
    "import os \n",
    "import re\n",
    "import pandas as pd\n",
    "# Read data into papers\n",
    "papers = pd.read_csv('NIPS Papers/papers.csv')"
   ]
  },
  {
   "cell_type": "code",
   "execution_count": 7,
   "id": "d8205248-52b1-4497-8e20-dec983aa6bc5",
   "metadata": {},
   "outputs": [],
   "source": [
    "papers = papers.drop(columns=['id', 'event_type', 'pdf_name'], axis=1).sample(100)"
   ]
  },
  {
   "cell_type": "code",
   "execution_count": 8,
   "id": "c1ea929d-6af6-4803-92b8-739c7529fd86",
   "metadata": {},
   "outputs": [],
   "source": [
    "papers['paper_text_processed'] = papers['paper_text'].map(lambda x: re.sub('[,\\.!?]', '', x))\n",
    "papers['paper_text_processed'] = papers['paper_text_processed'].map(lambda x: x.lower())"
   ]
  },
  {
   "cell_type": "code",
   "execution_count": null,
   "id": "68659b45-8905-40b1-b626-344544dfb7d0",
   "metadata": {},
   "outputs": [],
   "source": []
  }
 ],
 "metadata": {
  "kernelspec": {
   "display_name": "Python 3 (ipykernel)",
   "language": "python",
   "name": "python3"
  },
  "language_info": {
   "codemirror_mode": {
    "name": "ipython",
    "version": 3
   },
   "file_extension": ".py",
   "mimetype": "text/x-python",
   "name": "python",
   "nbconvert_exporter": "python",
   "pygments_lexer": "ipython3",
   "version": "3.7.3"
  }
 },
 "nbformat": 4,
 "nbformat_minor": 5
}
