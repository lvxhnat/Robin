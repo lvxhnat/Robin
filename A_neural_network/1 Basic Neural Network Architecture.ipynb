{
 "cells": [
  {
   "cell_type": "code",
   "execution_count": 1,
   "metadata": {},
   "outputs": [],
   "source": [
    "import numpy as np \n",
    "import math"
   ]
  },
  {
   "cell_type": "markdown",
   "metadata": {},
   "source": [
    "## 1 Architecture of a Neural Network"
   ]
  },
  {
   "cell_type": "markdown",
   "metadata": {},
   "source": [
    "### Single neuron\n",
    "<img src='media/simple_nn/single_neuron.png' width=\"450px\"/>"
   ]
  },
  {
   "cell_type": "code",
   "execution_count": 7,
   "metadata": {},
   "outputs": [],
   "source": [
    "def single_neuron(input_value: float, weight: float):\n",
    "    return input_value * weight"
   ]
  },
  {
   "cell_type": "markdown",
   "metadata": {},
   "source": [
    "### Aggregating neurons to one output\n",
    "We can aggregate multiple neurons, each representing a different feature, to produce a more accurate representation\n",
    "<br /><br \n",
    "         />\n",
    "<img src='media/simple_nn/multiple_neurons.png' width=\"450px\"/>"
   ]
  },
  {
   "cell_type": "code",
   "execution_count": 10,
   "metadata": {},
   "outputs": [],
   "source": [
    "def multiple_input_to_one_output(inputs: np.array, weights: np.array):\n",
    "    return np.dot(inputs, weights)"
   ]
  },
  {
   "cell_type": "markdown",
   "metadata": {},
   "source": [
    "### Multiple neurons to multiple outputs\n",
    "We can map multiple input neurons to multiple outputs as well\n",
    "<br /><br />\n",
    "<img src='media/simple_nn/multiple_neurons_multiple_outputs.png' width=\"450px\"/>"
   ]
  },
  {
   "cell_type": "code",
   "execution_count": 58,
   "metadata": {},
   "outputs": [],
   "source": [
    "def input_dense_layer(input_neurons: int, output_neurons: int):\n",
    "    # We define weight matrix with randomly intialized weights\n",
    "    weights = np.random.rand(output_neurons, input_neurons)\n",
    "    return lambda x: np.dot(weights, x)"
   ]
  },
  {
   "cell_type": "code",
   "execution_count": 51,
   "metadata": {},
   "outputs": [
    {
     "data": {
      "text/plain": [
       "array([4.28240336, 2.58377314])"
      ]
     },
     "execution_count": 51,
     "metadata": {},
     "output_type": "execute_result"
    }
   ],
   "source": [
    "input_dense_layer(input_neurons = 3, output_neurons = 2)(np.array([2,2,3]))"
   ]
  },
  {
   "cell_type": "markdown",
   "metadata": {},
   "source": [
    "### Using this logic, we can create multiple layers that stack on top of one another to form layers\n",
    "By stacking many of these layers, we can now create a network, a \"neural network\", consisting of multiple layers of neurons. We pass the outputs of each layer as inputs into another layer. This usually allows for improved \"predictive/forecasting\" abilities as it allows the network to model more complex problems\n",
    "<br /><br />\n",
    "\n",
    "<img src='media/simple_nn/multiple_layers.png' width=\"450px\"/>"
   ]
  },
  {
   "cell_type": "code",
   "execution_count": 56,
   "metadata": {},
   "outputs": [],
   "source": [
    "def neural_network_single_pass(input_features: np.array):\n",
    "    input_layer = input_dense_layer(input_neurons = 4, output_neurons = 4)(input_features)\n",
    "    hidden_layer = input_dense_layer(input_neurons = 4, output_neurons = 4)(input_layer)\n",
    "    output_layer = input_dense_layer(input_neurons = 4, output_neurons = 4)(hidden_layer)\n",
    "    return output_layer"
   ]
  },
  {
   "cell_type": "code",
   "execution_count": 57,
   "metadata": {},
   "outputs": [
    {
     "data": {
      "text/plain": [
       "array([30.45788016, 29.52960404, 14.09560955, 32.49632235])"
      ]
     },
     "execution_count": 57,
     "metadata": {},
     "output_type": "execute_result"
    }
   ],
   "source": [
    "neural_network_single_pass(input_features = np.array([1,2,3,4]))"
   ]
  },
  {
   "cell_type": "markdown",
   "metadata": {},
   "source": [
    "However, this neural network does not \"learn\". All it does is pass out new values, which are used as inputs to the next layers, nothing meaningful. So we need to give it context. I.e. A problem to solve, and expected solutions to the problem. To do this, we need to understand the concept of gradient descent"
   ]
  },
  {
   "cell_type": "markdown",
   "metadata": {},
   "source": [
    "## 2 Error and Learning Rates"
   ]
  },
  {
   "cell_type": "markdown",
   "metadata": {},
   "source": [
    "### Error on a single neuron\n",
    "\n",
    "Given an expected output, our single neuron doesnt predict to perfect accuracy on our randomly intialised weights. Our error is 0.01. \n",
    "\n",
    "<img src='../media/simple_nn/single_neuron_error.png' width=\"450px\"/>\n",
    "\n",
    "In order for our model to evaluate better, it needs to \"learn\". We can do this by setting the \"learning rate\", such that our weight adjusts based on the error rate to eventually give us the correct answer. In this example, we give the simple method of calculating error by taking: <br />\n",
    "\n",
    "Error = Prediction - Actual\n",
    "\n",
    "We aim to reduce the error in our network by updating the weights, ideally to match this scenario. \n",
    "\n",
    "<img src='media/simple_nn/perfect_prediction.png' width=\"450px\"/>\n",
    "\n",
    "To get to this, we can perform gradient descent to get to the correct weights much quicker"
   ]
  },
  {
   "cell_type": "markdown",
   "metadata": {},
   "source": [
    "### Gradient Descent\n",
    "\n",
    "Gradient descent aims to minimise the error by perform a sequence of weight updates"
   ]
  },
  {
   "cell_type": "code",
   "execution_count": 41,
   "metadata": {},
   "outputs": [
    {
     "data": {
      "image/png": "[encoded data removed]",
      "text/plain": [
       "<Figure size 432x288 with 1 Axes>"
      ]
     },
     "metadata": {},
     "output_type": "display_data"
    }
   ],
   "source": [
    "input_value = 8 \n",
    "expected_output = 39\n",
    "initial_weight = 0.1\n",
    "\n",
    "error = (input_value * initial_weight - expected_output) ** 2 # MSE\n",
    "\n",
    "## Error weight curve \n",
    "weights = np.arange(100) * initial_weight\n",
    "errors = (input_value * weights - expected_output) ** 2\n",
    "\n",
    "plot_descent = plt.plot(weights, errors)\n",
    "plot_edits = plt.xticks([]), plt.yticks([]), plt.ylabel(\"error\"), plt.xlabel(\"weight\")"
   ]
  },
  {
   "cell_type": "markdown",
   "metadata": {},
   "source": [
    "as we can see, the error decreases and eventually reaches a minimum at a certain set weight. Our goal is to get there, with gradient descent.\n",
    "\n",
    "Our goal is to simply reduce this \n",
    "\n",
    "error = (input * weight - target_prediction) ** 2 \n",
    "\n",
    "or at least the method of error calculation"
   ]
  },
  {
   "cell_type": "code",
   "execution_count": 188,
   "metadata": {},
   "outputs": [],
   "source": [
    "weight = 0.5\n",
    "target_prediction = 0.8\n",
    "input_value = 0.5"
   ]
  },
  {
   "cell_type": "code",
   "execution_count": 189,
   "metadata": {},
   "outputs": [
    {
     "name": "stdout",
     "output_type": "stream",
     "text": [
      "Prediction: 0.39   Error: 0.3\n",
      "Prediction: 0.49   Error: 0.17\n",
      "Prediction: 0.57   Error: 0.1\n",
      "Prediction: 0.63   Error: 0.05\n",
      "Prediction: 0.67   Error: 0.03\n",
      "Prediction: 0.7   Error: 0.02\n",
      "Prediction: 0.73   Error: 0.01\n",
      "Prediction: 0.74   Error: 0.01\n",
      "Prediction: 0.76   Error: 0.0\n",
      "Prediction: 0.77   Error: 0.0\n",
      "Prediction: 0.78   Error: 0.0\n",
      "Prediction: 0.78   Error: 0.0\n",
      "Prediction: 0.79   Error: 0.0\n",
      "Prediction: 0.79   Error: 0.0\n",
      "Prediction: 0.79   Error: 0.0\n",
      "Prediction: 0.79   Error: 0.0\n",
      "Prediction: 0.8   Error: 0.0\n",
      "Prediction: 0.8   Error: 0.0\n",
      "Prediction: 0.8   Error: 0.0\n",
      "Prediction: 0.8   Error: 0.0\n"
     ]
    }
   ],
   "source": [
    "predictions = []\n",
    "\n",
    "for i in range(20):\n",
    "    error = (input_value * weight - target_prediction) ** 2\n",
    "    ## We get weight_delta by getting the derivative of error with respect to weight (in order to minimize error)\n",
    "    ## This is because input_value and target_prediction are CONSTANTS.\n",
    "    weight_delta = (weight * input_value  - target_prediction) * input_value ## Multiply by input_value gives us a direction\n",
    "    weight -= weight_delta\n",
    "    predictions.append((error, weight))\n",
    "    print(\"Prediction: \" + str(round(weight * input_value,2)) + \"   Error: \" + str(round(error,2)))"
   ]
  },
  {
   "cell_type": "markdown",
   "metadata": {},
   "source": [
    "Visualising the gradient descent - note how the errors eventually converge to a minimum"
   ]
  },
  {
   "cell_type": "code",
   "execution_count": 211,
   "metadata": {},
   "outputs": [
    {
     "data": {
      "image/png": "[encoded data removed]",
      "text/plain": [
       "<Figure size 432x288 with 1 Axes>"
      ]
     },
     "metadata": {},
     "output_type": "display_data"
    }
   ],
   "source": [
    "plt.plot(np.arange(0, 315) * 0.01, (input_value * np.arange(0, 315) * 0.01 - target_prediction) ** 2)\n",
    "for points in predictions:\n",
    "    plt.plot(points[1], points[0], 'co')\n",
    "plot_edits = plt.xticks([]), plt.yticks([]), plt.ylabel(\"error\"), plt.xlabel(\"weight\")"
   ]
  },
  {
   "cell_type": "markdown",
   "metadata": {},
   "source": [
    "##### Exploding and vanishing gradient problem\n",
    "\n",
    "This problem occurs when the weight corrections \"explodes\" or becomes exceedingly large or small to the point it doesnt help with improving accuracy. This happens because the large error gradients accumulate (usually for large \"whole number\" predictions) or smaller ones (for small floats). "
   ]
  },
  {
   "cell_type": "code",
   "execution_count": 174,
   "metadata": {},
   "outputs": [],
   "source": [
    "weight = 0.5\n",
    "target_prediction = 1.5\n",
    "input_value = 421"
   ]
  },
  {
   "cell_type": "code",
   "execution_count": 175,
   "metadata": {},
   "outputs": [
    {
     "name": "stdout",
     "output_type": "stream",
     "text": [
      "Prediction: -37043158.5   Error: -87988.5\n",
      "Prediction: 6565529678401.5   Error: 15595082371.5\n",
      "Prediction: -1.163674480199616e+18   Error: -2764072399524028.5\n",
      "Prediction: 2.0624966487057994e+23   Error: 4.899041920916388e+20\n",
      "Prediction: -3.655569060166159e+28   Error: -8.683061900632206e+25\n",
      "Prediction: 6.479130602238501e+33   Error: 1.5389858912680525e+31\n",
      "Prediction: -1.1483611079407518e+39   Error: -2.727698593683496e+36\n",
      "Prediction: 2.0353552277141886e+44   Error: 4.834572987444628e+41\n",
      "Prediction: -3.607463605600628e+49   Error: -8.56879716294686e+46\n",
      "Prediction: 6.393868494566553e+54   Error: 1.5187336091607014e+52\n",
      "Prediction: -1.133249251976976e+60   Error: -2.6918034488764276e+57\n",
      "Prediction: 2.0085709742039923e+65   Error: 4.77095243278858e+62\n",
      "Prediction: -3.559991194679156e+70   Error: -8.456036091874479e+67\n",
      "Prediction: 6.309728393449335e+75   Error: 1.4987478369238327e+73\n",
      "Prediction: -1.1183362604549602e+81   Error: -2.656380666163801e+78\n",
      "Prediction: 1.9821391880303715e+86   Error: 4.708169092708721e+83\n",
      "Prediction: -3.513143496865031e+91   Error: -8.344758899916938e+88\n",
      "Prediction: 6.226695533843581e+96   Error: 1.4790250674212781e+94\n",
      "Prediction: -1.1036195164184362e+102   Error: -2.621424029497473e+99\n",
      "Prediction: 1.9560552309000362e+107   Error: 4.646211949881321e+104\n"
     ]
    }
   ],
   "source": [
    "for i in range(20):\n",
    "    error = (input_value * weight - target_prediction) ** 2\n",
    "    ## We get weight_delta by getting the derivative of error with respect to weight (in order to minimize error)\n",
    "    ## This is because input_value and target_prediction are CONSTANTS.\n",
    "    weight_delta = (weight * input_value  - target_prediction) * input_value ## Multiply by input_value gives us a direction\n",
    "    weight -= weight_delta\n",
    "    predictions.append((error, ))\n",
    "    print(\"Prediction: \" + str(round(weight * input_value,2)) + \"   Error: \" + str(round(weight,2)))"
   ]
  },
  {
   "cell_type": "code",
   "execution_count": null,
   "metadata": {},
   "outputs": [],
   "source": [
    "\n",
    "plt.plot(105,200,'ro') "
   ]
  },
  {
   "cell_type": "markdown",
   "metadata": {},
   "source": [
    "the predictions go out of hand! one way to solve this problem is to introduce an alpha term to multiply the weight delta with, allowing it to be kept within control. The alpha value is usually guessed until it brings us closer to our target predictions."
   ]
  },
  {
   "cell_type": "code",
   "execution_count": 172,
   "metadata": {},
   "outputs": [],
   "source": [
    "weight = 0.5\n",
    "target_prediction = 1.5\n",
    "input_value = 421\n",
    "alpha = 0.00001148"
   ]
  },
  {
   "cell_type": "code",
   "execution_count": 173,
   "metadata": {},
   "outputs": [
    {
     "name": "stdout",
     "output_type": "stream",
     "text": [
      "Prediction: -214.76   Error: -0.51\n",
      "Prediction: 225.27   Error: 0.54\n",
      "Prediction: -230.04   Error: -0.55\n",
      "Prediction: 241.08   Error: 0.57\n",
      "Prediction: -246.4   Error: -0.59\n",
      "Prediction: 258.01   Error: 0.61\n",
      "Prediction: -263.92   Error: -0.63\n",
      "Prediction: 276.13   Error: 0.66\n",
      "Prediction: -282.67   Error: -0.67\n",
      "Prediction: 295.54   Error: 0.7\n",
      "Prediction: -302.75   Error: -0.72\n",
      "Prediction: 316.31   Error: 0.75\n",
      "Prediction: -324.25   Error: -0.77\n",
      "Prediction: 338.56   Error: 0.8\n",
      "Prediction: -347.26   Error: -0.82\n",
      "Prediction: 362.37   Error: 0.86\n",
      "Prediction: -371.91   Error: -0.88\n",
      "Prediction: 387.87   Error: 0.92\n",
      "Prediction: -398.29   Error: -0.95\n",
      "Prediction: 415.17   Error: 0.99\n"
     ]
    }
   ],
   "source": [
    "for i in range(20):\n",
    "    error = (input_value * weight - target_prediction) ** 2\n",
    "    ## We get weight_delta by getting the derivative of error with respect to weight (in order to minimize error)\n",
    "    ## This is because input_value and target_prediction are CONSTANTS.\n",
    "    weight_delta = (weight * input_value  - target_prediction) * input_value  ## Multiply by input_value gives us a direction\n",
    "    weight -= weight_delta * alpha\n",
    "    print(\"Prediction: \" + str(round(weight * input_value,2)) + \"   Error: \" + str(round(weight,2)))"
   ]
  }
 ],
 "metadata": {
  "kernelspec": {
   "display_name": "Python 3",
   "language": "python",
   "name": "python3"
  },
  "language_info": {
   "codemirror_mode": {
    "name": "ipython",
    "version": 3
   },
   "file_extension": ".py",
   "mimetype": "text/x-python",
   "name": "python",
   "nbconvert_exporter": "python",
   "pygments_lexer": "ipython3",
   "version": "3.8.5"
  }
 },
 "nbformat": 4,
 "nbformat_minor": 4
}
